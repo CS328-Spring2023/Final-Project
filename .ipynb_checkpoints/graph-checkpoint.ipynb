{
 "cells": [
  {
   "cell_type": "code",
   "execution_count": 17,
   "id": "dbfe245c-c7a8-472e-8034-29dd52b9b98f",
   "metadata": {
    "tags": []
   },
   "outputs": [],
   "source": [
    "import os\n",
    "import pandas as pd\n",
    "import numpy as np \n",
    "import matplotlib.pyplot as plt"
   ]
  },
  {
   "cell_type": "code",
   "execution_count": 18,
   "id": "5e507c69-9e81-4ec9-9a53-933fa4e6f365",
   "metadata": {
    "tags": []
   },
   "outputs": [],
   "source": [
    "# Distribution graphs (histogram/bar graph) of column data\n",
    "def plotPerColumnDistribution(df, nGraphShown, nGraphPerRow):\n",
    "    nunique = df.nunique()\n",
    "    df = df[[col for col in df if nunique[col] > 1 and nunique[col] < 50]] # For displaying purposes, pick columns that have between 1 and 50 unique values\n",
    "    nRow, nCol = df.shape\n",
    "    columnNames = list(df)\n",
    "    nGraphRow = (nCol + nGraphPerRow - 1) / nGraphPerRow\n",
    "    plt.figure(num = None, figsize = (6 * nGraphPerRow, 8 * nGraphRow), dpi = 80, facecolor = 'w', edgecolor = 'k')\n",
    "    for i in range(min(nCol, nGraphShown)):\n",
    "        plt.subplot(nGraphRow, nGraphPerRow, i + 1)\n",
    "        columnDf = df.iloc[:, i]\n",
    "        if (not np.issubdtype(type(columnDf.iloc[0]), np.number)):\n",
    "            valueCounts = columnDf.value_counts()\n",
    "            valueCounts.plot.bar()\n",
    "        else:\n",
    "            columnDf.hist()\n",
    "        plt.ylabel('counts')\n",
    "        plt.xticks(rotation = 90)\n",
    "        plt.title(f'{columnNames[i]} (column {i})')\n",
    "    plt.tight_layout(pad = 1.0, w_pad = 1.0, h_pad = 1.0)\n",
    "    plt.show()"
   ]
  },
  {
   "cell_type": "code",
   "execution_count": 19,
   "id": "c2c77964-4ddf-4ef0-9a09-ee24da935914",
   "metadata": {
    "tags": []
   },
   "outputs": [],
   "source": [
    "df = pd.read_json(\"dataset.json\", orient=\"columns\")"
   ]
  },
  {
   "cell_type": "code",
   "execution_count": 20,
   "id": "c6cee777-f88f-4595-b4f4-e58f3f32e906",
   "metadata": {
    "tags": []
   },
   "outputs": [],
   "source": [
    "df._id = df._id.apply(lambda x: x[\"$oid\"])"
   ]
  },
  {
   "cell_type": "code",
   "execution_count": 21,
   "id": "263fc847-3157-4956-8b1c-ff93a2dd519f",
   "metadata": {},
   "outputs": [],
   "source": [
    "df.createdAt = df.createdAt.apply(lambda x: x[\"$date\"])"
   ]
  },
  {
   "cell_type": "code",
   "execution_count": 22,
   "id": "16e497fa-ee5a-4769-8218-4f05e74d4c7a",
   "metadata": {
    "tags": []
   },
   "outputs": [],
   "source": [
    "df.updatedAt = df.updatedAt.apply(lambda x: x[\"$date\"])"
   ]
  },
  {
   "cell_type": "code",
   "execution_count": 23,
   "id": "c8ed5598-f46f-4ad6-b5c9-2a9dcab0c803",
   "metadata": {
    "tags": []
   },
   "outputs": [],
   "source": [
    "df = df.drop(\"raws\", axis=1)"
   ]
  },
  {
   "cell_type": "code",
   "execution_count": 24,
   "id": "44db5426-fd60-487c-9904-adafe3b1d81c",
   "metadata": {
    "tags": []
   },
   "outputs": [
    {
     "data": {
      "text/html": [
       "<div>\n",
       "<style scoped>\n",
       "    .dataframe tbody tr th:only-of-type {\n",
       "        vertical-align: middle;\n",
       "    }\n",
       "\n",
       "    .dataframe tbody tr th {\n",
       "        vertical-align: top;\n",
       "    }\n",
       "\n",
       "    .dataframe thead th {\n",
       "        text-align: right;\n",
       "    }\n",
       "</style>\n",
       "<table border=\"1\" class=\"dataframe\">\n",
       "  <thead>\n",
       "    <tr style=\"text-align: right;\">\n",
       "      <th></th>\n",
       "      <th>_id</th>\n",
       "      <th>label</th>\n",
       "      <th>hand</th>\n",
       "      <th>annotator</th>\n",
       "      <th>count</th>\n",
       "      <th>periodNS</th>\n",
       "      <th>createdAt</th>\n",
       "      <th>updatedAt</th>\n",
       "      <th>__v</th>\n",
       "    </tr>\n",
       "  </thead>\n",
       "  <tbody>\n",
       "    <tr>\n",
       "      <th>0</th>\n",
       "      <td>5c5e933a6d627a480d243b88</td>\n",
       "      <td>upper-cut</td>\n",
       "      <td>right</td>\n",
       "      <td>0</td>\n",
       "      <td>149</td>\n",
       "      <td>1.489000e+09</td>\n",
       "      <td>2019-02-09T08:45:46.602Z</td>\n",
       "      <td>2019-02-09T08:45:46.602Z</td>\n",
       "      <td>0</td>\n",
       "    </tr>\n",
       "    <tr>\n",
       "      <th>1</th>\n",
       "      <td>5c5e933a6d627a480d243cbb</td>\n",
       "      <td>upper-cut</td>\n",
       "      <td>right</td>\n",
       "      <td>0</td>\n",
       "      <td>157</td>\n",
       "      <td>1.566000e+09</td>\n",
       "      <td>2019-02-09T08:45:46.603Z</td>\n",
       "      <td>2019-02-09T08:45:46.603Z</td>\n",
       "      <td>0</td>\n",
       "    </tr>\n",
       "    <tr>\n",
       "      <th>2</th>\n",
       "      <td>5c5e93486d627a480d243de3</td>\n",
       "      <td>upper-cut</td>\n",
       "      <td>right</td>\n",
       "      <td>0</td>\n",
       "      <td>138</td>\n",
       "      <td>1.336000e+09</td>\n",
       "      <td>2019-02-09T08:46:00.731Z</td>\n",
       "      <td>2019-02-09T08:46:00.731Z</td>\n",
       "      <td>0</td>\n",
       "    </tr>\n",
       "    <tr>\n",
       "      <th>3</th>\n",
       "      <td>5c5e93486d627a480d243f43</td>\n",
       "      <td>upper-cut</td>\n",
       "      <td>right</td>\n",
       "      <td>0</td>\n",
       "      <td>213</td>\n",
       "      <td>2.246000e+09</td>\n",
       "      <td>2019-02-09T08:46:00.731Z</td>\n",
       "      <td>2019-02-09T08:46:00.731Z</td>\n",
       "      <td>0</td>\n",
       "    </tr>\n",
       "    <tr>\n",
       "      <th>4</th>\n",
       "      <td>5c5e934d6d627a480d2441e7</td>\n",
       "      <td>frontal</td>\n",
       "      <td>right</td>\n",
       "      <td>1</td>\n",
       "      <td>185</td>\n",
       "      <td>1.805000e+09</td>\n",
       "      <td>2019-02-09T08:46:05.593Z</td>\n",
       "      <td>2019-02-09T08:46:05.593Z</td>\n",
       "      <td>0</td>\n",
       "    </tr>\n",
       "    <tr>\n",
       "      <th>...</th>\n",
       "      <td>...</td>\n",
       "      <td>...</td>\n",
       "      <td>...</td>\n",
       "      <td>...</td>\n",
       "      <td>...</td>\n",
       "      <td>...</td>\n",
       "      <td>...</td>\n",
       "      <td>...</td>\n",
       "      <td>...</td>\n",
       "    </tr>\n",
       "    <tr>\n",
       "      <th>7601</th>\n",
       "      <td>5c8679afe035bf37dcffefa5</td>\n",
       "      <td>no-action</td>\n",
       "      <td>left</td>\n",
       "      <td>7</td>\n",
       "      <td>260</td>\n",
       "      <td>2.483000e+09</td>\n",
       "      <td>2019-03-11T15:07:27.977Z</td>\n",
       "      <td>2019-03-11T15:07:27.977Z</td>\n",
       "      <td>0</td>\n",
       "    </tr>\n",
       "    <tr>\n",
       "      <th>7602</th>\n",
       "      <td>5c8679b2e035bf37dcfff1aa</td>\n",
       "      <td>no-action</td>\n",
       "      <td>left</td>\n",
       "      <td>7</td>\n",
       "      <td>256</td>\n",
       "      <td>2.483000e+09</td>\n",
       "      <td>2019-03-11T15:07:30.329Z</td>\n",
       "      <td>2019-03-11T15:07:30.329Z</td>\n",
       "      <td>0</td>\n",
       "    </tr>\n",
       "    <tr>\n",
       "      <th>7603</th>\n",
       "      <td>5c8679b2e035bf37dcfff3a8</td>\n",
       "      <td>no-action</td>\n",
       "      <td>left</td>\n",
       "      <td>7</td>\n",
       "      <td>253</td>\n",
       "      <td>2.484000e+09</td>\n",
       "      <td>2019-03-11T15:07:30.918Z</td>\n",
       "      <td>2019-03-11T15:07:30.918Z</td>\n",
       "      <td>0</td>\n",
       "    </tr>\n",
       "    <tr>\n",
       "      <th>7604</th>\n",
       "      <td>5c8679b5e035bf37dcfff5a5</td>\n",
       "      <td>no-action</td>\n",
       "      <td>left</td>\n",
       "      <td>7</td>\n",
       "      <td>255</td>\n",
       "      <td>2.488000e+09</td>\n",
       "      <td>2019-03-11T15:07:33.746Z</td>\n",
       "      <td>2019-03-11T15:07:33.746Z</td>\n",
       "      <td>0</td>\n",
       "    </tr>\n",
       "    <tr>\n",
       "      <th>7605</th>\n",
       "      <td>5c8679b5e035bf37dcfff7aa</td>\n",
       "      <td>no-action</td>\n",
       "      <td>left</td>\n",
       "      <td>7</td>\n",
       "      <td>261</td>\n",
       "      <td>2.496000e+09</td>\n",
       "      <td>2019-03-11T15:07:34.041Z</td>\n",
       "      <td>2019-03-11T15:07:34.041Z</td>\n",
       "      <td>0</td>\n",
       "    </tr>\n",
       "  </tbody>\n",
       "</table>\n",
       "<p>7606 rows × 9 columns</p>\n",
       "</div>"
      ],
      "text/plain": [
       "                           _id      label   hand  annotator  count  \\\n",
       "0     5c5e933a6d627a480d243b88  upper-cut  right          0    149   \n",
       "1     5c5e933a6d627a480d243cbb  upper-cut  right          0    157   \n",
       "2     5c5e93486d627a480d243de3  upper-cut  right          0    138   \n",
       "3     5c5e93486d627a480d243f43  upper-cut  right          0    213   \n",
       "4     5c5e934d6d627a480d2441e7    frontal  right          1    185   \n",
       "...                        ...        ...    ...        ...    ...   \n",
       "7601  5c8679afe035bf37dcffefa5  no-action   left          7    260   \n",
       "7602  5c8679b2e035bf37dcfff1aa  no-action   left          7    256   \n",
       "7603  5c8679b2e035bf37dcfff3a8  no-action   left          7    253   \n",
       "7604  5c8679b5e035bf37dcfff5a5  no-action   left          7    255   \n",
       "7605  5c8679b5e035bf37dcfff7aa  no-action   left          7    261   \n",
       "\n",
       "          periodNS                 createdAt                 updatedAt  __v  \n",
       "0     1.489000e+09  2019-02-09T08:45:46.602Z  2019-02-09T08:45:46.602Z    0  \n",
       "1     1.566000e+09  2019-02-09T08:45:46.603Z  2019-02-09T08:45:46.603Z    0  \n",
       "2     1.336000e+09  2019-02-09T08:46:00.731Z  2019-02-09T08:46:00.731Z    0  \n",
       "3     2.246000e+09  2019-02-09T08:46:00.731Z  2019-02-09T08:46:00.731Z    0  \n",
       "4     1.805000e+09  2019-02-09T08:46:05.593Z  2019-02-09T08:46:05.593Z    0  \n",
       "...            ...                       ...                       ...  ...  \n",
       "7601  2.483000e+09  2019-03-11T15:07:27.977Z  2019-03-11T15:07:27.977Z    0  \n",
       "7602  2.483000e+09  2019-03-11T15:07:30.329Z  2019-03-11T15:07:30.329Z    0  \n",
       "7603  2.484000e+09  2019-03-11T15:07:30.918Z  2019-03-11T15:07:30.918Z    0  \n",
       "7604  2.488000e+09  2019-03-11T15:07:33.746Z  2019-03-11T15:07:33.746Z    0  \n",
       "7605  2.496000e+09  2019-03-11T15:07:34.041Z  2019-03-11T15:07:34.041Z    0  \n",
       "\n",
       "[7606 rows x 9 columns]"
      ]
     },
     "execution_count": 24,
     "metadata": {},
     "output_type": "execute_result"
    }
   ],
   "source": [
    "df"
   ]
  },
  {
   "cell_type": "code",
   "execution_count": 30,
   "id": "b992bce6-8624-4de4-9242-8aed17f8918b",
   "metadata": {
    "tags": []
   },
   "outputs": [
    {
     "ename": "ValueError",
     "evalue": "Number of rows must be a positive integer, not 1.2",
     "output_type": "error",
     "traceback": [
      "\u001b[1;31m---------------------------------------------------------------------------\u001b[0m",
      "\u001b[1;31mValueError\u001b[0m                                Traceback (most recent call last)",
      "Cell \u001b[1;32mIn[30], line 1\u001b[0m\n\u001b[1;32m----> 1\u001b[0m \u001b[43mplotPerColumnDistribution\u001b[49m\u001b[43m(\u001b[49m\u001b[43mdf\u001b[49m\u001b[43m,\u001b[49m\u001b[43m \u001b[49m\u001b[38;5;241;43m10\u001b[39;49m\u001b[43m,\u001b[49m\u001b[43m \u001b[49m\u001b[38;5;241;43m10\u001b[39;49m\u001b[43m)\u001b[49m\n",
      "Cell \u001b[1;32mIn[18], line 10\u001b[0m, in \u001b[0;36mplotPerColumnDistribution\u001b[1;34m(df, nGraphShown, nGraphPerRow)\u001b[0m\n\u001b[0;32m      8\u001b[0m plt\u001b[38;5;241m.\u001b[39mfigure(num \u001b[38;5;241m=\u001b[39m \u001b[38;5;28;01mNone\u001b[39;00m, figsize \u001b[38;5;241m=\u001b[39m (\u001b[38;5;241m6\u001b[39m \u001b[38;5;241m*\u001b[39m nGraphPerRow, \u001b[38;5;241m8\u001b[39m \u001b[38;5;241m*\u001b[39m nGraphRow), dpi \u001b[38;5;241m=\u001b[39m \u001b[38;5;241m80\u001b[39m, facecolor \u001b[38;5;241m=\u001b[39m \u001b[38;5;124m'\u001b[39m\u001b[38;5;124mw\u001b[39m\u001b[38;5;124m'\u001b[39m, edgecolor \u001b[38;5;241m=\u001b[39m \u001b[38;5;124m'\u001b[39m\u001b[38;5;124mk\u001b[39m\u001b[38;5;124m'\u001b[39m)\n\u001b[0;32m      9\u001b[0m \u001b[38;5;28;01mfor\u001b[39;00m i \u001b[38;5;129;01min\u001b[39;00m \u001b[38;5;28mrange\u001b[39m(\u001b[38;5;28mmin\u001b[39m(nCol, nGraphShown)):\n\u001b[1;32m---> 10\u001b[0m     \u001b[43mplt\u001b[49m\u001b[38;5;241;43m.\u001b[39;49m\u001b[43msubplot\u001b[49m\u001b[43m(\u001b[49m\u001b[43mnGraphRow\u001b[49m\u001b[43m,\u001b[49m\u001b[43m \u001b[49m\u001b[43mnGraphPerRow\u001b[49m\u001b[43m,\u001b[49m\u001b[43m \u001b[49m\u001b[43mi\u001b[49m\u001b[43m \u001b[49m\u001b[38;5;241;43m+\u001b[39;49m\u001b[43m \u001b[49m\u001b[38;5;241;43m1\u001b[39;49m\u001b[43m)\u001b[49m\n\u001b[0;32m     11\u001b[0m     columnDf \u001b[38;5;241m=\u001b[39m df\u001b[38;5;241m.\u001b[39miloc[:, i]\n\u001b[0;32m     12\u001b[0m     \u001b[38;5;28;01mif\u001b[39;00m (\u001b[38;5;129;01mnot\u001b[39;00m np\u001b[38;5;241m.\u001b[39missubdtype(\u001b[38;5;28mtype\u001b[39m(columnDf\u001b[38;5;241m.\u001b[39miloc[\u001b[38;5;241m0\u001b[39m]), np\u001b[38;5;241m.\u001b[39mnumber)):\n",
      "File \u001b[1;32m~\\AppData\\Local\\Programs\\Python\\Python39\\lib\\site-packages\\matplotlib\\pyplot.py:1264\u001b[0m, in \u001b[0;36msubplot\u001b[1;34m(*args, **kwargs)\u001b[0m\n\u001b[0;32m   1261\u001b[0m fig \u001b[38;5;241m=\u001b[39m gcf()\n\u001b[0;32m   1263\u001b[0m \u001b[38;5;66;03m# First, search for an existing subplot with a matching spec.\u001b[39;00m\n\u001b[1;32m-> 1264\u001b[0m key \u001b[38;5;241m=\u001b[39m \u001b[43mSubplotSpec\u001b[49m\u001b[38;5;241;43m.\u001b[39;49m\u001b[43m_from_subplot_args\u001b[49m\u001b[43m(\u001b[49m\u001b[43mfig\u001b[49m\u001b[43m,\u001b[49m\u001b[43m \u001b[49m\u001b[43margs\u001b[49m\u001b[43m)\u001b[49m\n\u001b[0;32m   1266\u001b[0m \u001b[38;5;28;01mfor\u001b[39;00m ax \u001b[38;5;129;01min\u001b[39;00m fig\u001b[38;5;241m.\u001b[39maxes:\n\u001b[0;32m   1267\u001b[0m     \u001b[38;5;66;03m# if we found an Axes at the position sort out if we can re-use it\u001b[39;00m\n\u001b[0;32m   1268\u001b[0m     \u001b[38;5;28;01mif\u001b[39;00m \u001b[38;5;28mhasattr\u001b[39m(ax, \u001b[38;5;124m'\u001b[39m\u001b[38;5;124mget_subplotspec\u001b[39m\u001b[38;5;124m'\u001b[39m) \u001b[38;5;129;01mand\u001b[39;00m ax\u001b[38;5;241m.\u001b[39mget_subplotspec() \u001b[38;5;241m==\u001b[39m key:\n\u001b[0;32m   1269\u001b[0m         \u001b[38;5;66;03m# if the user passed no kwargs, re-use\u001b[39;00m\n",
      "File \u001b[1;32m~\\AppData\\Local\\Programs\\Python\\Python39\\lib\\site-packages\\matplotlib\\gridspec.py:601\u001b[0m, in \u001b[0;36mSubplotSpec._from_subplot_args\u001b[1;34m(figure, args)\u001b[0m\n\u001b[0;32m    597\u001b[0m \u001b[38;5;28;01melse\u001b[39;00m:\n\u001b[0;32m    598\u001b[0m     \u001b[38;5;28;01mraise\u001b[39;00m \u001b[38;5;167;01mTypeError\u001b[39;00m(\u001b[38;5;124mf\u001b[39m\u001b[38;5;124m\"\u001b[39m\u001b[38;5;124msubplot() takes 1 or 3 positional arguments but \u001b[39m\u001b[38;5;124m\"\u001b[39m\n\u001b[0;32m    599\u001b[0m                     \u001b[38;5;124mf\u001b[39m\u001b[38;5;124m\"\u001b[39m\u001b[38;5;132;01m{\u001b[39;00m\u001b[38;5;28mlen\u001b[39m(args)\u001b[38;5;132;01m}\u001b[39;00m\u001b[38;5;124m were given\u001b[39m\u001b[38;5;124m\"\u001b[39m)\n\u001b[1;32m--> 601\u001b[0m gs \u001b[38;5;241m=\u001b[39m \u001b[43mGridSpec\u001b[49m\u001b[38;5;241;43m.\u001b[39;49m\u001b[43m_check_gridspec_exists\u001b[49m\u001b[43m(\u001b[49m\u001b[43mfigure\u001b[49m\u001b[43m,\u001b[49m\u001b[43m \u001b[49m\u001b[43mrows\u001b[49m\u001b[43m,\u001b[49m\u001b[43m \u001b[49m\u001b[43mcols\u001b[49m\u001b[43m)\u001b[49m\n\u001b[0;32m    602\u001b[0m \u001b[38;5;28;01mif\u001b[39;00m gs \u001b[38;5;129;01mis\u001b[39;00m \u001b[38;5;28;01mNone\u001b[39;00m:\n\u001b[0;32m    603\u001b[0m     gs \u001b[38;5;241m=\u001b[39m GridSpec(rows, cols, figure\u001b[38;5;241m=\u001b[39mfigure)\n",
      "File \u001b[1;32m~\\AppData\\Local\\Programs\\Python\\Python39\\lib\\site-packages\\matplotlib\\gridspec.py:226\u001b[0m, in \u001b[0;36mGridSpecBase._check_gridspec_exists\u001b[1;34m(figure, nrows, ncols)\u001b[0m\n\u001b[0;32m    224\u001b[0m             \u001b[38;5;28;01mreturn\u001b[39;00m gs\n\u001b[0;32m    225\u001b[0m \u001b[38;5;66;03m# else gridspec not found:\u001b[39;00m\n\u001b[1;32m--> 226\u001b[0m \u001b[38;5;28;01mreturn\u001b[39;00m \u001b[43mGridSpec\u001b[49m\u001b[43m(\u001b[49m\u001b[43mnrows\u001b[49m\u001b[43m,\u001b[49m\u001b[43m \u001b[49m\u001b[43mncols\u001b[49m\u001b[43m,\u001b[49m\u001b[43m \u001b[49m\u001b[43mfigure\u001b[49m\u001b[38;5;241;43m=\u001b[39;49m\u001b[43mfigure\u001b[49m\u001b[43m)\u001b[49m\n",
      "File \u001b[1;32m~\\AppData\\Local\\Programs\\Python\\Python39\\lib\\site-packages\\matplotlib\\gridspec.py:388\u001b[0m, in \u001b[0;36mGridSpec.__init__\u001b[1;34m(self, nrows, ncols, figure, left, bottom, right, top, wspace, hspace, width_ratios, height_ratios)\u001b[0m\n\u001b[0;32m    385\u001b[0m \u001b[38;5;28mself\u001b[39m\u001b[38;5;241m.\u001b[39mhspace \u001b[38;5;241m=\u001b[39m hspace\n\u001b[0;32m    386\u001b[0m \u001b[38;5;28mself\u001b[39m\u001b[38;5;241m.\u001b[39mfigure \u001b[38;5;241m=\u001b[39m figure\n\u001b[1;32m--> 388\u001b[0m \u001b[38;5;28;43msuper\u001b[39;49m\u001b[43m(\u001b[49m\u001b[43m)\u001b[49m\u001b[38;5;241;43m.\u001b[39;49m\u001b[38;5;21;43m__init__\u001b[39;49m\u001b[43m(\u001b[49m\u001b[43mnrows\u001b[49m\u001b[43m,\u001b[49m\u001b[43m \u001b[49m\u001b[43mncols\u001b[49m\u001b[43m,\u001b[49m\n\u001b[0;32m    389\u001b[0m \u001b[43m                 \u001b[49m\u001b[43mwidth_ratios\u001b[49m\u001b[38;5;241;43m=\u001b[39;49m\u001b[43mwidth_ratios\u001b[49m\u001b[43m,\u001b[49m\n\u001b[0;32m    390\u001b[0m \u001b[43m                 \u001b[49m\u001b[43mheight_ratios\u001b[49m\u001b[38;5;241;43m=\u001b[39;49m\u001b[43mheight_ratios\u001b[49m\u001b[43m)\u001b[49m\n",
      "File \u001b[1;32m~\\AppData\\Local\\Programs\\Python\\Python39\\lib\\site-packages\\matplotlib\\gridspec.py:49\u001b[0m, in \u001b[0;36mGridSpecBase.__init__\u001b[1;34m(self, nrows, ncols, height_ratios, width_ratios)\u001b[0m\n\u001b[0;32m     34\u001b[0m \u001b[38;5;250m\u001b[39m\u001b[38;5;124;03m\"\"\"\u001b[39;00m\n\u001b[0;32m     35\u001b[0m \u001b[38;5;124;03mParameters\u001b[39;00m\n\u001b[0;32m     36\u001b[0m \u001b[38;5;124;03m----------\u001b[39;00m\n\u001b[1;32m   (...)\u001b[0m\n\u001b[0;32m     46\u001b[0m \u001b[38;5;124;03m    If not given, all rows will have the same height.\u001b[39;00m\n\u001b[0;32m     47\u001b[0m \u001b[38;5;124;03m\"\"\"\u001b[39;00m\n\u001b[0;32m     48\u001b[0m \u001b[38;5;28;01mif\u001b[39;00m \u001b[38;5;129;01mnot\u001b[39;00m \u001b[38;5;28misinstance\u001b[39m(nrows, Integral) \u001b[38;5;129;01mor\u001b[39;00m nrows \u001b[38;5;241m<\u001b[39m\u001b[38;5;241m=\u001b[39m \u001b[38;5;241m0\u001b[39m:\n\u001b[1;32m---> 49\u001b[0m     \u001b[38;5;28;01mraise\u001b[39;00m \u001b[38;5;167;01mValueError\u001b[39;00m(\n\u001b[0;32m     50\u001b[0m         \u001b[38;5;124mf\u001b[39m\u001b[38;5;124m\"\u001b[39m\u001b[38;5;124mNumber of rows must be a positive integer, not \u001b[39m\u001b[38;5;132;01m{\u001b[39;00mnrows\u001b[38;5;132;01m!r}\u001b[39;00m\u001b[38;5;124m\"\u001b[39m)\n\u001b[0;32m     51\u001b[0m \u001b[38;5;28;01mif\u001b[39;00m \u001b[38;5;129;01mnot\u001b[39;00m \u001b[38;5;28misinstance\u001b[39m(ncols, Integral) \u001b[38;5;129;01mor\u001b[39;00m ncols \u001b[38;5;241m<\u001b[39m\u001b[38;5;241m=\u001b[39m \u001b[38;5;241m0\u001b[39m:\n\u001b[0;32m     52\u001b[0m     \u001b[38;5;28;01mraise\u001b[39;00m \u001b[38;5;167;01mValueError\u001b[39;00m(\n\u001b[0;32m     53\u001b[0m         \u001b[38;5;124mf\u001b[39m\u001b[38;5;124m\"\u001b[39m\u001b[38;5;124mNumber of columns must be a positive integer, not \u001b[39m\u001b[38;5;132;01m{\u001b[39;00mncols\u001b[38;5;132;01m!r}\u001b[39;00m\u001b[38;5;124m\"\u001b[39m)\n",
      "\u001b[1;31mValueError\u001b[0m: Number of rows must be a positive integer, not 1.2"
     ]
    },
    {
     "data": {
      "text/plain": [
       "<Figure size 4800x768 with 0 Axes>"
      ]
     },
     "metadata": {},
     "output_type": "display_data"
    }
   ],
   "source": [
    "plotPerColumnDistribution(df, 10, 10)"
   ]
  },
  {
   "cell_type": "code",
   "execution_count": null,
   "id": "bd4d2c44-14fc-4d70-b4de-5c38b5581ce1",
   "metadata": {},
   "outputs": [],
   "source": []
  }
 ],
 "metadata": {
  "kernelspec": {
   "display_name": "Python 3 (ipykernel)",
   "language": "python",
   "name": "python3"
  },
  "language_info": {
   "codemirror_mode": {
    "name": "ipython",
    "version": 3
   },
   "file_extension": ".py",
   "mimetype": "text/x-python",
   "name": "python",
   "nbconvert_exporter": "python",
   "pygments_lexer": "ipython3",
   "version": "3.9.7"
  }
 },
 "nbformat": 4,
 "nbformat_minor": 5
}
