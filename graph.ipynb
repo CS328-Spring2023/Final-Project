{
 "cells": [
  {
   "cell_type": "code",
   "execution_count": 35,
   "id": "dbfe245c-c7a8-472e-8034-29dd52b9b98f",
   "metadata": {
    "tags": []
   },
   "outputs": [],
   "source": [
    "import os\n",
    "import pandas as pd\n",
    "import numpy as np \n",
    "import matplotlib.pyplot as plt"
   ]
  },
  {
   "cell_type": "code",
   "execution_count": 36,
   "id": "5e507c69-9e81-4ec9-9a53-933fa4e6f365",
   "metadata": {
    "tags": []
   },
   "outputs": [],
   "source": [
    "# Distribution graphs (histogram/bar graph) of column data\n",
    "def plotPerColumnDistribution(df, nGraphShown, nGraphPerRow):\n",
    "    nunique = df.nunique()\n",
    "    df = df[[col for col in df if nunique[col] > 1 and nunique[col] < 50]] # For displaying purposes, pick columns that have between 1 and 50 unique values\n",
    "    nRow, nCol = df.shape\n",
    "    columnNames = list(df)\n",
    "    nGraphRow = (nCol + nGraphPerRow - 1) / nGraphPerRow\n",
    "    plt.figure(num = None, figsize = (6 * nGraphPerRow, 8 * nGraphRow), dpi = 80, facecolor = 'w', edgecolor = 'k')\n",
    "    for i in range(min(nCol, nGraphShown)):\n",
    "        plt.subplot(int(nGraphRow), int(nGraphPerRow), int(i + 1))\n",
    "        columnDf = df.iloc[:, i]\n",
    "        if (not np.issubdtype(type(columnDf.iloc[0]), np.number)):\n",
    "            valueCounts = columnDf.value_counts()\n",
    "            valueCounts.plot.bar()\n",
    "        else:\n",
    "            columnDf.hist()\n",
    "        plt.ylabel('counts')\n",
    "        plt.xticks(rotation = 90)\n",
    "        plt.title(f'{columnNames[i]} (column {i})')\n",
    "    plt.tight_layout(pad = 1.0, w_pad = 1.0, h_pad = 1.0)\n",
    "    plt.show()"
   ]
  },
  {
   "cell_type": "code",
   "execution_count": 47,
   "id": "04b07deb-10df-4b77-a665-78f07fe09f90",
   "metadata": {},
   "outputs": [],
   "source": [
    "# Correlation matrix\n",
    "def plotCorrelationMatrix(df, graphWidth):\n",
    "    # filename = df.dataframeName\n",
    "    df = df.dropna('columns') # drop columns with NaN\n",
    "    df = df[[col for col in df if df[col].nunique() > 1]] # keep columns where there are more than 1 unique values\n",
    "    if df.shape[1] < 2:\n",
    "        print(f'No correlation plots shown: The number of non-NaN or constant columns ({df.shape[1]}) is less than 2')\n",
    "        return\n",
    "    corr = df.corr()\n",
    "    plt.figure(num=None, figsize=(graphWidth, graphWidth), dpi=80, facecolor='w', edgecolor='k')\n",
    "    corrMat = plt.matshow(corr, fignum = 1)\n",
    "    plt.xticks(range(len(corr.columns)), corr.columns, rotation=90)\n",
    "    plt.yticks(range(len(corr.columns)), corr.columns)\n",
    "    plt.gca().xaxis.tick_bottom()\n",
    "    plt.colorbar(corrMat)\n",
    "    plt.title(f'Correlation Matrix', fontsize=15)\n",
    "    plt.show()"
   ]
  },
  {
   "cell_type": "code",
   "execution_count": 38,
   "id": "cb6fe855-e976-4d87-a83c-d28a103286ac",
   "metadata": {},
   "outputs": [],
   "source": [
    "# Scatter and density plots\n",
    "def plotScatterMatrix(df, plotSize, textSize):\n",
    "    df = df.select_dtypes(include =[np.number]) # keep only numerical columns\n",
    "    # Remove rows and columns that would lead to df being singular\n",
    "    df = df.dropna('columns')\n",
    "    df = df[[col for col in df if df[col].nunique() > 1]] # keep columns where there are more than 1 unique values\n",
    "    columnNames = list(df)\n",
    "    if len(columnNames) > 10: # reduce the number of columns for matrix inversion of kernel density plots\n",
    "        columnNames = columnNames[:10]\n",
    "    df = df[columnNames]\n",
    "    ax = pd.plotting.scatter_matrix(df, alpha=0.75, figsize=[plotSize, plotSize], diagonal='kde')\n",
    "    corrs = df.corr().values\n",
    "    for i, j in zip(*plt.np.triu_indices_from(ax, k = 1)):\n",
    "        ax[i, j].annotate('Corr. coef = %.3f' % corrs[i, j], (0.8, 0.2), xycoords='axes fraction', ha='center', va='center', size=textSize)\n",
    "    plt.suptitle('Scatter and Density Plot')\n",
    "    plt.show()"
   ]
  },
  {
   "cell_type": "code",
   "execution_count": 39,
   "id": "c2c77964-4ddf-4ef0-9a09-ee24da935914",
   "metadata": {
    "tags": []
   },
   "outputs": [],
   "source": [
    "df = pd.read_json(\"dataset.json\", orient=\"columns\")"
   ]
  },
  {
   "cell_type": "code",
   "execution_count": 40,
   "id": "c6cee777-f88f-4595-b4f4-e58f3f32e906",
   "metadata": {
    "tags": []
   },
   "outputs": [],
   "source": [
    "df._id = df._id.apply(lambda x: x[\"$oid\"])"
   ]
  },
  {
   "cell_type": "code",
   "execution_count": 41,
   "id": "263fc847-3157-4956-8b1c-ff93a2dd519f",
   "metadata": {},
   "outputs": [],
   "source": [
    "df.createdAt = df.createdAt.apply(lambda x: x[\"$date\"])"
   ]
  },
  {
   "cell_type": "code",
   "execution_count": 42,
   "id": "16e497fa-ee5a-4769-8218-4f05e74d4c7a",
   "metadata": {
    "tags": []
   },
   "outputs": [],
   "source": [
    "df.updatedAt = df.updatedAt.apply(lambda x: x[\"$date\"])"
   ]
  },
  {
   "cell_type": "code",
   "execution_count": 43,
   "id": "c8ed5598-f46f-4ad6-b5c9-2a9dcab0c803",
   "metadata": {
    "tags": []
   },
   "outputs": [],
   "source": [
    "df = df.drop(\"raws\", axis=1)"
   ]
  },
  {
   "cell_type": "code",
   "execution_count": 44,
   "id": "44db5426-fd60-487c-9904-adafe3b1d81c",
   "metadata": {
    "tags": []
   },
   "outputs": [
    {
     "data": {
      "text/html": [
       "<div>\n",
       "<style scoped>\n",
       "    .dataframe tbody tr th:only-of-type {\n",
       "        vertical-align: middle;\n",
       "    }\n",
       "\n",
       "    .dataframe tbody tr th {\n",
       "        vertical-align: top;\n",
       "    }\n",
       "\n",
       "    .dataframe thead th {\n",
       "        text-align: right;\n",
       "    }\n",
       "</style>\n",
       "<table border=\"1\" class=\"dataframe\">\n",
       "  <thead>\n",
       "    <tr style=\"text-align: right;\">\n",
       "      <th></th>\n",
       "      <th>_id</th>\n",
       "      <th>label</th>\n",
       "      <th>hand</th>\n",
       "      <th>annotator</th>\n",
       "      <th>count</th>\n",
       "      <th>periodNS</th>\n",
       "      <th>createdAt</th>\n",
       "      <th>updatedAt</th>\n",
       "      <th>__v</th>\n",
       "    </tr>\n",
       "  </thead>\n",
       "  <tbody>\n",
       "    <tr>\n",
       "      <th>0</th>\n",
       "      <td>5c5e933a6d627a480d243b88</td>\n",
       "      <td>upper-cut</td>\n",
       "      <td>right</td>\n",
       "      <td>0</td>\n",
       "      <td>149</td>\n",
       "      <td>1.489000e+09</td>\n",
       "      <td>2019-02-09T08:45:46.602Z</td>\n",
       "      <td>2019-02-09T08:45:46.602Z</td>\n",
       "      <td>0</td>\n",
       "    </tr>\n",
       "    <tr>\n",
       "      <th>1</th>\n",
       "      <td>5c5e933a6d627a480d243cbb</td>\n",
       "      <td>upper-cut</td>\n",
       "      <td>right</td>\n",
       "      <td>0</td>\n",
       "      <td>157</td>\n",
       "      <td>1.566000e+09</td>\n",
       "      <td>2019-02-09T08:45:46.603Z</td>\n",
       "      <td>2019-02-09T08:45:46.603Z</td>\n",
       "      <td>0</td>\n",
       "    </tr>\n",
       "    <tr>\n",
       "      <th>2</th>\n",
       "      <td>5c5e93486d627a480d243de3</td>\n",
       "      <td>upper-cut</td>\n",
       "      <td>right</td>\n",
       "      <td>0</td>\n",
       "      <td>138</td>\n",
       "      <td>1.336000e+09</td>\n",
       "      <td>2019-02-09T08:46:00.731Z</td>\n",
       "      <td>2019-02-09T08:46:00.731Z</td>\n",
       "      <td>0</td>\n",
       "    </tr>\n",
       "    <tr>\n",
       "      <th>3</th>\n",
       "      <td>5c5e93486d627a480d243f43</td>\n",
       "      <td>upper-cut</td>\n",
       "      <td>right</td>\n",
       "      <td>0</td>\n",
       "      <td>213</td>\n",
       "      <td>2.246000e+09</td>\n",
       "      <td>2019-02-09T08:46:00.731Z</td>\n",
       "      <td>2019-02-09T08:46:00.731Z</td>\n",
       "      <td>0</td>\n",
       "    </tr>\n",
       "    <tr>\n",
       "      <th>4</th>\n",
       "      <td>5c5e934d6d627a480d2441e7</td>\n",
       "      <td>frontal</td>\n",
       "      <td>right</td>\n",
       "      <td>1</td>\n",
       "      <td>185</td>\n",
       "      <td>1.805000e+09</td>\n",
       "      <td>2019-02-09T08:46:05.593Z</td>\n",
       "      <td>2019-02-09T08:46:05.593Z</td>\n",
       "      <td>0</td>\n",
       "    </tr>\n",
       "    <tr>\n",
       "      <th>...</th>\n",
       "      <td>...</td>\n",
       "      <td>...</td>\n",
       "      <td>...</td>\n",
       "      <td>...</td>\n",
       "      <td>...</td>\n",
       "      <td>...</td>\n",
       "      <td>...</td>\n",
       "      <td>...</td>\n",
       "      <td>...</td>\n",
       "    </tr>\n",
       "    <tr>\n",
       "      <th>7601</th>\n",
       "      <td>5c8679afe035bf37dcffefa5</td>\n",
       "      <td>no-action</td>\n",
       "      <td>left</td>\n",
       "      <td>7</td>\n",
       "      <td>260</td>\n",
       "      <td>2.483000e+09</td>\n",
       "      <td>2019-03-11T15:07:27.977Z</td>\n",
       "      <td>2019-03-11T15:07:27.977Z</td>\n",
       "      <td>0</td>\n",
       "    </tr>\n",
       "    <tr>\n",
       "      <th>7602</th>\n",
       "      <td>5c8679b2e035bf37dcfff1aa</td>\n",
       "      <td>no-action</td>\n",
       "      <td>left</td>\n",
       "      <td>7</td>\n",
       "      <td>256</td>\n",
       "      <td>2.483000e+09</td>\n",
       "      <td>2019-03-11T15:07:30.329Z</td>\n",
       "      <td>2019-03-11T15:07:30.329Z</td>\n",
       "      <td>0</td>\n",
       "    </tr>\n",
       "    <tr>\n",
       "      <th>7603</th>\n",
       "      <td>5c8679b2e035bf37dcfff3a8</td>\n",
       "      <td>no-action</td>\n",
       "      <td>left</td>\n",
       "      <td>7</td>\n",
       "      <td>253</td>\n",
       "      <td>2.484000e+09</td>\n",
       "      <td>2019-03-11T15:07:30.918Z</td>\n",
       "      <td>2019-03-11T15:07:30.918Z</td>\n",
       "      <td>0</td>\n",
       "    </tr>\n",
       "    <tr>\n",
       "      <th>7604</th>\n",
       "      <td>5c8679b5e035bf37dcfff5a5</td>\n",
       "      <td>no-action</td>\n",
       "      <td>left</td>\n",
       "      <td>7</td>\n",
       "      <td>255</td>\n",
       "      <td>2.488000e+09</td>\n",
       "      <td>2019-03-11T15:07:33.746Z</td>\n",
       "      <td>2019-03-11T15:07:33.746Z</td>\n",
       "      <td>0</td>\n",
       "    </tr>\n",
       "    <tr>\n",
       "      <th>7605</th>\n",
       "      <td>5c8679b5e035bf37dcfff7aa</td>\n",
       "      <td>no-action</td>\n",
       "      <td>left</td>\n",
       "      <td>7</td>\n",
       "      <td>261</td>\n",
       "      <td>2.496000e+09</td>\n",
       "      <td>2019-03-11T15:07:34.041Z</td>\n",
       "      <td>2019-03-11T15:07:34.041Z</td>\n",
       "      <td>0</td>\n",
       "    </tr>\n",
       "  </tbody>\n",
       "</table>\n",
       "<p>7606 rows × 9 columns</p>\n",
       "</div>"
      ],
      "text/plain": [
       "                           _id      label   hand  annotator  count  \\\n",
       "0     5c5e933a6d627a480d243b88  upper-cut  right          0    149   \n",
       "1     5c5e933a6d627a480d243cbb  upper-cut  right          0    157   \n",
       "2     5c5e93486d627a480d243de3  upper-cut  right          0    138   \n",
       "3     5c5e93486d627a480d243f43  upper-cut  right          0    213   \n",
       "4     5c5e934d6d627a480d2441e7    frontal  right          1    185   \n",
       "...                        ...        ...    ...        ...    ...   \n",
       "7601  5c8679afe035bf37dcffefa5  no-action   left          7    260   \n",
       "7602  5c8679b2e035bf37dcfff1aa  no-action   left          7    256   \n",
       "7603  5c8679b2e035bf37dcfff3a8  no-action   left          7    253   \n",
       "7604  5c8679b5e035bf37dcfff5a5  no-action   left          7    255   \n",
       "7605  5c8679b5e035bf37dcfff7aa  no-action   left          7    261   \n",
       "\n",
       "          periodNS                 createdAt                 updatedAt  __v  \n",
       "0     1.489000e+09  2019-02-09T08:45:46.602Z  2019-02-09T08:45:46.602Z    0  \n",
       "1     1.566000e+09  2019-02-09T08:45:46.603Z  2019-02-09T08:45:46.603Z    0  \n",
       "2     1.336000e+09  2019-02-09T08:46:00.731Z  2019-02-09T08:46:00.731Z    0  \n",
       "3     2.246000e+09  2019-02-09T08:46:00.731Z  2019-02-09T08:46:00.731Z    0  \n",
       "4     1.805000e+09  2019-02-09T08:46:05.593Z  2019-02-09T08:46:05.593Z    0  \n",
       "...            ...                       ...                       ...  ...  \n",
       "7601  2.483000e+09  2019-03-11T15:07:27.977Z  2019-03-11T15:07:27.977Z    0  \n",
       "7602  2.483000e+09  2019-03-11T15:07:30.329Z  2019-03-11T15:07:30.329Z    0  \n",
       "7603  2.484000e+09  2019-03-11T15:07:30.918Z  2019-03-11T15:07:30.918Z    0  \n",
       "7604  2.488000e+09  2019-03-11T15:07:33.746Z  2019-03-11T15:07:33.746Z    0  \n",
       "7605  2.496000e+09  2019-03-11T15:07:34.041Z  2019-03-11T15:07:34.041Z    0  \n",
       "\n",
       "[7606 rows x 9 columns]"
      ]
     },
     "execution_count": 44,
     "metadata": {},
     "output_type": "execute_result"
    }
   ],
   "source": [
    "df"
   ]
  },
  {
   "cell_type": "code",
   "execution_count": 45,
   "id": "b992bce6-8624-4de4-9242-8aed17f8918b",
   "metadata": {
    "tags": []
   },
   "outputs": [
    {
     "data": {
      "image/png": "[encoded data removed]",
      "text/plain": [
       "<Figure size 480x1920 with 3 Axes>"
      ]
     },
     "metadata": {},
     "output_type": "display_data"
    }
   ],
   "source": [
    "plotPerColumnDistribution(df, 10, 1)"
   ]
  },
  {
   "cell_type": "code",
   "execution_count": 48,
   "id": "bd4d2c44-14fc-4d70-b4de-5c38b5581ce1",
   "metadata": {
    "tags": []
   },
   "outputs": [
    {
     "name": "stderr",
     "output_type": "stream",
     "text": [
      "C:\\Users\\kevin\\AppData\\Local\\Temp\\ipykernel_4564\\1166599913.py:4: FutureWarning: In a future version of pandas all arguments of DataFrame.dropna will be keyword-only.\n",
      "  df = df.dropna('columns') # drop columns with NaN\n"
     ]
    },
    {
     "data": {
      "image/png": "[encoded data removed]",
      "text/plain": [
       "<Figure size 160x160 with 2 Axes>"
      ]
     },
     "metadata": {},
     "output_type": "display_data"
    }
   ],
   "source": [
    "plotCorrelationMatrix(df, 2)"
   ]
  },
  {
   "cell_type": "code",
   "execution_count": null,
   "id": "0a9b2d3b-a494-4961-a525-a9b7ed50caee",
   "metadata": {},
   "outputs": [],
   "source": []
  }
 ],
 "metadata": {
  "kernelspec": {
   "display_name": "Python 3 (ipykernel)",
   "language": "python",
   "name": "python3"
  },
  "language_info": {
   "codemirror_mode": {
    "name": "ipython",
    "version": 3
   },
   "file_extension": ".py",
   "mimetype": "text/x-python",
   "name": "python",
   "nbconvert_exporter": "python",
   "pygments_lexer": "ipython3",
   "version": "3.9.7"
  }
 },
 "nbformat": 4,
 "nbformat_minor": 5
}
